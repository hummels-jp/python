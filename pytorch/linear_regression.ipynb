{
 "cells": [
  {
   "cell_type": "code",
   "execution_count": 1,
   "metadata": {},
   "outputs": [
    {
     "name": "stdout",
     "output_type": "stream",
     "text": [
      "[[ 0.]\n",
      " [ 1.]\n",
      " [ 2.]\n",
      " [ 3.]\n",
      " [ 4.]\n",
      " [ 5.]\n",
      " [ 6.]\n",
      " [ 7.]\n",
      " [ 8.]\n",
      " [ 9.]\n",
      " [10.]]\n",
      "[[ 1.]\n",
      " [ 3.]\n",
      " [ 5.]\n",
      " [ 7.]\n",
      " [ 9.]\n",
      " [11.]\n",
      " [13.]\n",
      " [15.]\n",
      " [17.]\n",
      " [19.]\n",
      " [21.]]\n",
      "[[-1.5811388 ]\n",
      " [-1.264911  ]\n",
      " [-0.9486833 ]\n",
      " [-0.6324555 ]\n",
      " [-0.31622776]\n",
      " [ 0.        ]\n",
      " [ 0.31622776]\n",
      " [ 0.6324555 ]\n",
      " [ 0.9486833 ]\n",
      " [ 1.264911  ]\n",
      " [ 1.5811388 ]]\n",
      "[[-1.5811388 ]\n",
      " [-1.264911  ]\n",
      " [-0.9486833 ]\n",
      " [-0.6324555 ]\n",
      " [-0.31622776]\n",
      " [ 0.        ]\n",
      " [ 0.31622776]\n",
      " [ 0.6324555 ]\n",
      " [ 0.9486833 ]\n",
      " [ 1.264911  ]\n",
      " [ 1.5811388 ]]\n"
     ]
    }
   ],
   "source": [
    "import torch\n",
    "import torch.nn as nn\n",
    "import numpy as np\n",
    "from sklearn.preprocessing import StandardScaler\n",
    "\n",
    "# 生成数据\n",
    "x_values = [i for i in range(11)]\n",
    "x_train = np.array(x_values, dtype=np.float32).reshape(-1, 1)\n",
    "print(x_train)\n",
    "\n",
    "y_values = [2*i + 1 for i in x_values]\n",
    "y_train = np.array(y_values, dtype=np.float32).reshape(-1, 1)\n",
    "print(y_train)\n",
    "\n",
    "# 数据标准化\n",
    "scaler_x = StandardScaler()\n",
    "scaler_y = StandardScaler()\n",
    "\n",
    "x_train_scaled = scaler_x.fit_transform(x_train)\n",
    "y_train_scaled = scaler_y.fit_transform(y_train)\n",
    "\n",
    "print(x_train_scaled)\n",
    "print(y_train_scaled)\n",
    "\n"
   ]
  }
 ],
 "metadata": {
  "kernelspec": {
   "display_name": "pytorch",
   "language": "python",
   "name": "python3"
  },
  "language_info": {
   "codemirror_mode": {
    "name": "ipython",
    "version": 3
   },
   "file_extension": ".py",
   "mimetype": "text/x-python",
   "name": "python",
   "nbconvert_exporter": "python",
   "pygments_lexer": "ipython3",
   "version": "3.8.20"
  }
 },
 "nbformat": 4,
 "nbformat_minor": 2
}
